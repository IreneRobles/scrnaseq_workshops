{
  "cells": [
    {
      "cell_type": "raw",
      "metadata": {},
      "source": [
        "---\n",
        "title: Introduction to scRNAseq analysis\n",
        "subtitle: Workshop\n",
        "author: Irene Robles\n",
        "institute: CoSyne Therapeutics\n",
        "date: today\n",
        "bibliography: bibliograpy.bib\n",
        "execute:\n",
        "  warning: false\n",
        "format:\n",
        "  html:\n",
        "    scrollable: true\n",
        "    incremental: false\n",
        "    theme: default\n",
        "    toc: true\n",
        "    code-fold: false\n",
        "    embed-resources: true\n",
        "fontsize: 12pt\n",
        "---"
      ],
      "id": "d3eb3932"
    },
    {
      "cell_type": "markdown",
      "metadata": {},
      "source": [
        "## Introduction\n",
        "\n",
        "## Who am I?\n",
        "\n",
        "## Where do I work?\n",
        "\n",
        "## What do I do?\n",
        "\n",
        "## Bulk sequencing data\n",
        "\n",
        "- 1953 - DNA structure\n",
        "- 1953 - First protein amino acid sequencing\n",
        "- 1975 - Sanger sequencing\n",
        "- 1985 - First PCR\n",
        "- 1988 - PCR with Taq polymerase\n",
        "- 1988 - Automation of Sanger sequencing\n",
        "- 1993 - First qPCRs\n",
        "- 1996 - Pyrosequencing\n",
        "- 1995 - Microarrays\n",
        "    - Quantify gene expression using a chip\n",
        "- 2001 - First draft of the human genome\n",
        "- 2003 - First NGS DNA sequencer\n",
        "- 2005 - Next-generation sequencing\n",
        "- 2009 - First single-cell RNA-seq [@tang2009mrna]\n",
        "- 2010 - RNA-seq\n",
        "- 2013 - Single-cell RNA-seq is declared method of the year\n",
        "\n",
        "[@zhu2020pcr; @gondane2023revealing]\n",
        "\n",
        "## Bulk RNA-seq\n",
        "\n",
        "- RNA-seq is a method to quantify gene expression in a sample by sequencing the RNA molecules in the sample.\n",
        "- Can be used to quantify gene expression, identify alternative splicing, identify novel genes, quantify allele-specific expression, etc.\n",
        "- Can estimate the **average expression** level for each gene across a population of cells.\n",
        "\n",
        "## Single-cell RNA-seq\n",
        "\n",
        "- scRNA-seq methods can quantify gene expression in individual cells.\n",
        "- Can be used to study cell  heterogeneity, sunch as identify cell types, cell states, heterogeneity, and cell-cell interactions.\n",
        "- Suffers from drop-out, higher technical noise and lower genomic resolution compared to bulk RNA-seq.\n",
        "\n",
        "## Sample representation\n",
        "\n",
        "- In bulk data, each sample is repressented by a vector, where each value is a gene.\n",
        "- In single cell data, each sample is a matrix, where each row is a gene and each column is a cell.\n",
        "\n",
        "\\begin{align}\n",
        "Bulk &= \\begin{bmatrix} gene_{1} \\\\ gene_{2} \\\\ gene_{3}\\\\ \\vdots \\\\ gene_{n} \\end{bmatrix} \n",
        "\\\\\n",
        "\\\\\n",
        "\n",
        "Single-cell &= \\begin{bmatrix}\n",
        "    gene_1, cell_1 & gene_1, cell_2 & gene_1, cell_3 & \\dots  & gene_1, cell_m \\\\\n",
        "    gene_2, cell_1 & gene_2, cell_2 & gene_2, cell_3 & \\dots  & gene_2, cell_m \\\\\n",
        "    gene_3, cell_1 & gene_3, cell_2 & gene_3, cell_3 & \\dots  & gene_3, cell_m \\\\\n",
        "    \\vdots & \\vdots & \\vdots & \\ddots & \\vdots \\\\\n",
        "    gene_n, cell_1 & gene_n, cell_2 & gene_n, cell_3 & \\dots  & gene_n, cell_m\n",
        "\\end{bmatrix}\n",
        "\n",
        "\\end{align}\n",
        "\n",
        "\n",
        "## Single-cell vs bulk RNAseq\n",
        "\n",
        "|Feature              | Bulk data                          | Single-cell data                  |\n",
        "|---------------------|------------------------------------|-----------------------------------|\n",
        "| Cell resolution     | Average of all cells               | Individual cell resolution        |\n",
        "| Sample representation | Vector of gene expression values | Matrix of gene expression values  |\n",
        "| Genomic resolution  | Higher, depends on sequencing depth  | Lower, depends on starting material |\n",
        "| Cost                | Lower                                | High                              |\n",
        "| Computational requirements | Lower                        | Higher                              |\n",
        "| Data size           | Lower                               | Higher                           |\n",
        "| Data interpretation | Simple                             | Complex                           |\n",
        "\n",
        "## Scanpy (Python) vs Seurat (R)\n",
        "\n",
        "- Both are: \n",
        "    - User-friendly tools for single-cell analysis\n",
        "    - Open source \n",
        "    - Well-documented (Maybe Seurat more than Scanpy)\n",
        "    - Widely-used\n",
        "- Choice depends on:\n",
        "    - Language preference\n",
        "    - Team expertise\n",
        "    - Integration with downstream analysis\n",
        "    - Speed and memory requirements (In general, Python is faster and more memory efficient than R)\n",
        "\n",
        "> Hint: A good bioinformatician is not restricted by language. You can use R in Python can be done using the `rpy2` package. And Python can be use within R using `reticulate`. \n",
        "\n",
        "## Scale of scRNAseq data\n",
        "\n",
        "![Number of cells per study over years    [@svensson2020curated]](number_of_cells.png)\n",
        "\n",
        "## AnnData object\n",
        "\n",
        "![AnnData object, source: scanpy web](https://falexwolf.de/img/scanpy/anndata.svg) \n",
        "\n",
        "## Set up\n",
        "\n",
        "- Install Miniconda\n",
        "- Create a new environment\n",
        "\n",
        "```bash\n",
        "conda create -n myscanpy python=3.10\n",
        "conda activate myscanpy\n",
        "pip install -r requirements.txt\n",
        "quarto check jupyter\n",
        "\n",
        "```\n",
        "\n",
        "## Import libraries\n"
      ],
      "id": "db1c2ee1"
    },
    {
      "cell_type": "code",
      "metadata": {},
      "source": [
        "import scanpy as sc\n",
        "import scipy as sp\n",
        "import numpy as np\n",
        "import os\n",
        "import pandas as pd\n",
        "import polars as pl\n",
        "import matplotlib.pyplot as plt\n",
        "import seaborn as sns\n",
        "import fast_matrix_market"
      ],
      "id": "2d02b83c",
      "execution_count": null,
      "outputs": []
    },
    {
      "cell_type": "markdown",
      "metadata": {},
      "source": [
        "Scanpy setttings"
      ],
      "id": "db103419"
    },
    {
      "cell_type": "code",
      "metadata": {},
      "source": [
        "sc.settings.verbosity = 3   # verbosity: errors (0), warnings (1), info (2), hints (3)\n",
        "sc.logging.print_header()\n",
        "sc.settings.set_figure_params(dpi=80, facecolor='white')"
      ],
      "id": "fed8d19e",
      "execution_count": null,
      "outputs": []
    },
    {
      "cell_type": "markdown",
      "metadata": {},
      "source": [
        "## Download data\n",
        "\n",
        "```bash\n",
        "wget https://ndownloader.figshare.com/files/10038325\n",
        "unzip 10038325\n",
        "wget https://ndownloader.figshare.com/files/10038328\n",
        "mv 10038328 droplet_metadata.csv\n",
        "wget https://ndownloader.figshare.com/files/10039264\n",
        "mv 10039264 droplet_annotation.csv\n",
        "```\n",
        "\n",
        "\n",
        "## Load data\n",
        "\n",
        "Load 1 dataset\n"
      ],
      "id": "3702ace9"
    },
    {
      "cell_type": "code",
      "metadata": {},
      "source": [
        "path = \"droplet/Bladder-10X_P4_3/\"\n",
        "adata = sc.read_10x_mtx(path, var_names='gene_symbols', cache=True)\n",
        "adata"
      ],
      "id": "78d16aa6",
      "execution_count": null,
      "outputs": []
    },
    {
      "cell_type": "markdown",
      "metadata": {},
      "source": [
        "> Hint: When single-cell datasets are large, you can use `polars` instead of `pandas` to read tabular data. You can also use `fast_matrix_market` to read mtx files.\n"
      ],
      "id": "cdbc49b1"
    },
    {
      "cell_type": "code",
      "metadata": {},
      "source": [
        "#| code-fold: true\n",
        "\n",
        "def read_scrnaseq_faster(\n",
        "   path: str\n",
        "   )-> sc.AnnData:\n",
        "    \"\"\"\n",
        "    Read a sparse matrix in Matrix Market format and two CSV files with gene and cell metadata\n",
        "    into an AnnData object.\n",
        "    \n",
        "    Args:\n",
        "        path: Path to the directory containing the matrix.mtx, genes.tsv, and barcodes.tsv files.\n",
        "        \n",
        "    Returns:\n",
        "        An AnnData object with the matrix, gene metadata, and cell metadata.\n",
        "\n",
        "    \"\"\"\n",
        "    mtx_file = os.path.join(path, \"matrix.mtx\")\n",
        "    gene_info = os.path.join(path, \"genes.tsv\")\n",
        "    cell_metadata = os.path.join(path, \"barcodes.tsv\")\n",
        "    \n",
        "    # Read the .mtx file into a sparse matrix using the fast_matrix_market package (master than scanpy, uses multiprocessing)\n",
        "    mtx = fast_matrix_market.mmread(mtx_file)\n",
        "\n",
        "    # Convert the sparse matrix to a CSR matrix\n",
        "    # Otherwise you will not be able to use it with scanpy\n",
        "    if isinstance(mtx, sp.sparse.coo.coo_matrix):\n",
        "        mtx = mtx.tocsr()\n",
        "    \n",
        "    # Create an AnnData object\n",
        "    adata = sc.AnnData(X=mtx.T)\n",
        "\n",
        "    # Polars is faster than pandas for reading test files\n",
        "    # Read the gene names and cell names into the AnnData object\n",
        "    \n",
        "    adata.var = pl.read_csv(gene_info, separator= '\\t', has_header=False).to_pandas()\n",
        "    \n",
        "    # Read the cell names and cell metadata into the AnnData object\n",
        "    adata.obs = pl.read_csv(cell_metadata, separator= '\\t', has_header=False).to_pandas()\n",
        "    return adata"
      ],
      "id": "e8215627",
      "execution_count": null,
      "outputs": []
    },
    {
      "cell_type": "markdown",
      "metadata": {},
      "source": [
        "Load 7 datasets\n"
      ],
      "id": "6918305b"
    },
    {
      "cell_type": "code",
      "metadata": {},
      "source": [
        "# Get folders in droplet\n",
        "folders = os.listdir(\"droplet\")\n",
        "adata = []\n",
        "for folder in folders[0:10]:\n",
        "    channel = folder.split(\"-\")[1]\n",
        "    tissue = folder.split(\"-\")[0]\n",
        "    path = f\"droplet/{folder}/\"\n",
        "    adata_small = sc.read_10x_mtx(path, var_names='gene_symbols', cache=True)\n",
        "    adata_small.obs[\"channel\"] = channel\n",
        "    adata_small.obs[\"tissue\"] = tissue\n",
        "    if folder == folders[0]:\n",
        "        adata = adata_small\n",
        "    else:\n",
        "        adata = adata.concatenate(adata_small)\n",
        "    print(f\"Loaded {folder}\")\n",
        "adata"
      ],
      "id": "707ea1e3",
      "execution_count": null,
      "outputs": []
    },
    {
      "cell_type": "markdown",
      "metadata": {},
      "source": [
        "## Doublets\n",
        "\n",
        "## Preprocessing\n",
        "\n",
        "### Highest expressing genes\n",
        "Look for suspects: MALAT1, mitochondrial genes, ribosomal genes, componenets of the cytoskeleton, etc."
      ],
      "id": "03cb843d"
    },
    {
      "cell_type": "code",
      "metadata": {},
      "source": [
        "sc.pl.highest_expr_genes(adata, n_top=20, )"
      ],
      "id": "328076ec",
      "execution_count": null,
      "outputs": []
    },
    {
      "cell_type": "markdown",
      "metadata": {},
      "source": [
        "### Quality metrics\n",
        "\n",
        "`sc.pp.calculate_qc_metrics` computes quality control metrics for each cell.\n",
        "- Number of counts per cell\n",
        "- Number of genes per cell\n",
        "- Percentage of counts that come from mitochondrial genes.\n"
      ],
      "id": "5912e2f6"
    },
    {
      "cell_type": "code",
      "metadata": {},
      "source": [
        "adata.var['mt'] = adata.var_names.str.startswith('Mt')  # annotate the group of mitochondrial genes as 'mt'\n",
        "sc.pp.calculate_qc_metrics(adata, qc_vars=['mt'], percent_top=None, log1p=False, inplace=True)"
      ],
      "id": "d9c26335",
      "execution_count": null,
      "outputs": []
    },
    {
      "cell_type": "code",
      "metadata": {},
      "source": [
        "sc.pl.violin(adata, ['n_genes_by_counts', 'total_counts', 'pct_counts_mt'],\n",
        "             jitter=0.4, multi_panel=True)"
      ],
      "id": "b31f2dcd",
      "execution_count": null,
      "outputs": []
    },
    {
      "cell_type": "markdown",
      "metadata": {},
      "source": [
        "Different sampes might require different thresholds\n"
      ],
      "id": "1e1fa372"
    },
    {
      "cell_type": "code",
      "metadata": {},
      "source": [
        "sc.pl.violin(adata, ['n_genes_by_counts', 'total_counts', 'pct_counts_mt'],\n",
        "             jitter=0.4, multi_panel=True, groupby='tissue', rotation = 90)"
      ],
      "id": "62022774",
      "execution_count": null,
      "outputs": []
    },
    {
      "cell_type": "code",
      "metadata": {},
      "source": [
        "sc.pl.scatter(adata, x='total_counts', y='pct_counts_mt', color='tissue')\n",
        "sc.pl.scatter(adata, x='total_counts', y='n_genes_by_counts', color='tissue')"
      ],
      "id": "88bf4390",
      "execution_count": null,
      "outputs": []
    },
    {
      "cell_type": "markdown",
      "metadata": {},
      "source": [
        "## Filtering\n",
        "\n",
        "Filter cells based on quality metrics\n"
      ],
      "id": "8fa8dec0"
    },
    {
      "cell_type": "code",
      "metadata": {},
      "source": [
        "sc.pp.filter_cells(adata, min_genes=500)\n",
        "sc.pp.filter_genes(adata, min_cells=5)\n",
        "adata = adata[adata.obs.n_genes_by_counts < 2500, :]\n",
        "adata = adata[adata.obs.pct_counts_mt < 5, :]"
      ],
      "id": "4c45ab6c",
      "execution_count": null,
      "outputs": []
    },
    {
      "cell_type": "markdown",
      "metadata": {},
      "source": [
        "## Normalisation: size normalisation and log transformation\n",
        "\n",
        "For simplicity, we will use the simplest method: library size normalisation and log transformation, but there are others\n",
        "[@risso2018general, @hafemeister2019normalization]. \n",
        "\n",
        "Steps:\n",
        "\n",
        "- Transcript length normalisation: \n",
        "    - Adjusts for differences in transcript length between genes\n",
        "    - Divides the counts in each cell by the length of the transcript\n",
        "    - Not necessary if you sequence a fixed region of the transcript ( 3' or 5' in 10X, our case)\n",
        "- Library size normalisation: \n",
        "    - Adjusts for differences in sequencing depth between cells\n",
        "    - Divides the counts in each cell by the total counts in that cell and multiplies by a scale factor (e.g. 10,000)"
      ],
      "id": "19e79b73"
    },
    {
      "cell_type": "code",
      "metadata": {},
      "source": [
        "sc.pp.normalize_total(adata, target_sum=1e4)"
      ],
      "id": "ded45635",
      "execution_count": null,
      "outputs": []
    },
    {
      "cell_type": "markdown",
      "metadata": {},
      "source": [
        "- Log transformation:\n",
        "    - Logarithm of the normalised counts\n",
        "    - Makes the data more normally distributed"
      ],
      "id": "d9b9da9e"
    },
    {
      "cell_type": "code",
      "metadata": {},
      "source": [
        "sc.pp.log1p(adata)"
      ],
      "id": "2734e0d0",
      "execution_count": null,
      "outputs": []
    },
    {
      "cell_type": "markdown",
      "metadata": {},
      "source": [
        "## Highly variable genes\n"
      ],
      "id": "6d004592"
    },
    {
      "cell_type": "code",
      "metadata": {},
      "source": [
        "sc.pp.highly_variable_genes(adata, min_mean=0.0125, max_mean=3, min_disp=0.5)"
      ],
      "id": "9b4e45c4",
      "execution_count": null,
      "outputs": []
    },
    {
      "cell_type": "markdown",
      "metadata": {},
      "source": [
        "Set the .raw attribute of the AnnData object to the normalized and logarithmized raw gene expression for later use in differential testing and visualizations of gene expression. This simply freezes the state of the AnnData object.\n",
        "\n",
        "You can get back an AnnData of the object in .raw by calling .raw.to_adata()."
      ],
      "id": "2ce6fe6c"
    },
    {
      "cell_type": "code",
      "metadata": {},
      "source": [
        "adata.raw = adata"
      ],
      "id": "73df19bf",
      "execution_count": null,
      "outputs": []
    },
    {
      "cell_type": "markdown",
      "metadata": {},
      "source": [
        "If you don’t proceed below with correcting the data with sc.pp.regress_out and scaling it via sc.pp.scale, you can also get away without using .raw at all.\n",
        "\n",
        "The result of the previous highly-variable-genes detection is stored as an annotation in .var.highly_variable and auto-detected by PCA and hence, sc.pp.neighbors and subsequent manifold/graph tools. In that case, the step actually do the filtering below is unnecessary, too.\n",
        "\n",
        "Actually do the filtering\n"
      ],
      "id": "2e950c33"
    },
    {
      "cell_type": "code",
      "metadata": {},
      "source": [
        "adata = adata[:, adata.var.highly_variable]\n",
        "adata"
      ],
      "id": "36403260",
      "execution_count": null,
      "outputs": []
    },
    {
      "cell_type": "markdown",
      "metadata": {},
      "source": [
        "Regress out effects of total counts per cell and the percentage of mitochondrial genes expressed. Scale the data to unit variance.\n"
      ],
      "id": "a1b4d7d3"
    },
    {
      "cell_type": "code",
      "metadata": {},
      "source": [
        "sc.pp.regress_out(adata, ['total_counts', 'pct_counts_mt'])"
      ],
      "id": "cc072e0b",
      "execution_count": null,
      "outputs": []
    },
    {
      "cell_type": "markdown",
      "metadata": {},
      "source": [
        "Scale each gene to unit variance. Clip values exceeding standard deviation 10."
      ],
      "id": "b91d9d8e"
    },
    {
      "cell_type": "code",
      "metadata": {},
      "source": [
        "sc.pp.scale(adata, max_value=10)"
      ],
      "id": "a0d18aff",
      "execution_count": null,
      "outputs": []
    },
    {
      "cell_type": "markdown",
      "metadata": {},
      "source": [
        "## Principal component analysis\n",
        "Reduce the dimensionality of the data by running principal component analysis (PCA), which reveals the main axes of variation and denoises the data.\n"
      ],
      "id": "cf3c487a"
    },
    {
      "cell_type": "code",
      "metadata": {},
      "source": [
        "sc.tl.pca(adata, svd_solver='arpack')"
      ],
      "id": "dbb4caf8",
      "execution_count": null,
      "outputs": []
    },
    {
      "cell_type": "code",
      "metadata": {},
      "source": [
        "sc.pl.pca(adata, color='tissue')"
      ],
      "id": "a156524a",
      "execution_count": null,
      "outputs": []
    },
    {
      "cell_type": "markdown",
      "metadata": {},
      "source": [
        "Varinace explained by each component"
      ],
      "id": "4b57203a"
    },
    {
      "cell_type": "code",
      "metadata": {},
      "source": [
        "sc.pl.pca_variance_ratio(adata, log=True)"
      ],
      "id": "df35ac93",
      "execution_count": null,
      "outputs": []
    },
    {
      "cell_type": "markdown",
      "metadata": {},
      "source": [
        "## Neighborhood graph\n",
        "\n",
        "Let us compute the neighborhood graph of cells using the PCA representation of the data matrix. You might simply use default values here. For the sake of reproducing Seurat’s results, let’s take the following values.\n"
      ],
      "id": "54f09cf8"
    },
    {
      "cell_type": "code",
      "metadata": {},
      "source": [
        "sc.pp.neighbors(adata, n_neighbors=10, n_pcs=40)"
      ],
      "id": "0bb275d1",
      "execution_count": null,
      "outputs": []
    },
    {
      "cell_type": "markdown",
      "metadata": {},
      "source": [
        "We suggest embedding the graph in two dimensions using UMAP (McInnes et al., 2018), see below. It is potentially more faithful to the global connectivity of the manifold than tSNE, i.e., it better preserves trajectories. In some ocassions, you might still observe disconnected clusters and similar connectivity violations. They can usually be remedied by running:\n"
      ],
      "id": "b0653197"
    },
    {
      "cell_type": "code",
      "metadata": {},
      "source": [
        " # remove `plot=False` if you want to see the coarse-grained graph\n",
        "sc.tl.umap(adata, init_pos='paga')\n",
        "sc.tl.umap(adata)"
      ],
      "id": "1bc9185d",
      "execution_count": null,
      "outputs": []
    },
    {
      "cell_type": "markdown",
      "metadata": {},
      "source": [
        "As we set the .raw attribute of adata, the previous plots showed the “raw” (normalized, logarithmized, but uncorrected) gene expression. You can also plot the scaled and corrected gene expression by explicitly stating that you don’t want to use .raw."
      ],
      "id": "1484e20a"
    },
    {
      "cell_type": "code",
      "metadata": {},
      "source": [
        "sc.pl.umap(adata, color='tissue', use_raw=False)"
      ],
      "id": "a00220ad",
      "execution_count": null,
      "outputs": []
    },
    {
      "cell_type": "markdown",
      "metadata": {},
      "source": [
        "## Clustering the neighborhood graph\n",
        "As with Seurat and many other frameworks, we recommend the Leiden graph-clustering method (community detection based on optimizing modularity) by Traag et al. (2018). Note that Leiden clustering directly clusters the neighborhood graph of cells, which we already computed in the previous section.\n"
      ],
      "id": "dc624f75"
    },
    {
      "cell_type": "code",
      "metadata": {},
      "source": [
        "sc.tl.leiden(adata, resolution=0.02)\n",
        "sc.pl.umap(adata, color='leiden', use_raw=False)"
      ],
      "id": "1a4db0f2",
      "execution_count": null,
      "outputs": []
    },
    {
      "cell_type": "markdown",
      "metadata": {},
      "source": [
        "## Finding marker genes\n",
        "\n",
        "Let us compute a ranking for the highly differential genes in each cluster. For this, by default, the .raw attribute of AnnData is used in case it has been initialized before. The simplest and fastest method to do so is the t-test.\n"
      ],
      "id": "bb82c772"
    },
    {
      "cell_type": "code",
      "metadata": {},
      "source": [
        "sc.tl.rank_genes_groups(adata, 'leiden', method='wilcoxon')\n",
        "sc.pl.rank_genes_groups(adata, n_genes=25, sharey=False)"
      ],
      "id": "c5a5aa54",
      "execution_count": null,
      "outputs": []
    },
    {
      "cell_type": "code",
      "metadata": {},
      "source": [
        "pd.DataFrame(adata.uns['rank_genes_groups']['names']).head(5)"
      ],
      "id": "6bb89b59",
      "execution_count": null,
      "outputs": []
    },
    {
      "cell_type": "markdown",
      "metadata": {},
      "source": [
        "During the course of this analysis, the AnnData accumlated the following annotations.\n"
      ],
      "id": "68dbe60c"
    },
    {
      "cell_type": "code",
      "metadata": {},
      "source": [
        "adata"
      ],
      "id": "05858437",
      "execution_count": null,
      "outputs": []
    },
    {
      "cell_type": "markdown",
      "metadata": {},
      "source": [
        "## What is the goal of this workshop?\n",
        "\n",
        "## What is single-cell data?\n",
        "\n",
        "What is single-cell RNA-seq and how does it compare to bulk RNA-seq?\n",
        "What are some of the typical applications of scRNA-seq?\n",
        "How are samples typically prepared for scRNA-seq?\n",
        "What are the differences between some of the most popular protocols and what are their advantages and disadvantages?\n",
        "What experimental design choices should be considered in scRNA-seq?\n",
        "What are some of the challenges of scRNA-seq data compared to bulk data?\n",
        "\n",
        "\n",
        "\n",
        "\n",
        "## Inspirations\n",
        "\n",
        "- [Analysis of single cell RNA-seq data](https://www.singlecellcourse.org/)\n",
        "    - Course from University of Cambridge Bioinformatics training unit\n",
        "- [Single cell study database](www.nxn.se/single-cell-studies/)\n",
        "- [Scanpy tutorials](https://scanpy-tutorials.readthedocs.io/en/latest/)"
      ],
      "id": "0bc76b22"
    }
  ],
  "metadata": {
    "kernelspec": {
      "name": "myscanpy",
      "language": "python",
      "display_name": "Python (myscanpy)"
    }
  },
  "nbformat": 4,
  "nbformat_minor": 5
}