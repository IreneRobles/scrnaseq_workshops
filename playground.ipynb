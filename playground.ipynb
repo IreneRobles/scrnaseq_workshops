{
 "cells": [
  {
   "cell_type": "code",
   "execution_count": 1,
   "metadata": {},
   "outputs": [],
   "source": [
    "import scanpy as sc\n",
    "import pandas as pd\n",
    "import os\n",
    "import fast_matrix_market\n",
    "import polars as pl\n",
    "import scipy as sp\n"
   ]
  },
  {
   "cell_type": "code",
   "execution_count": 2,
   "metadata": {},
   "outputs": [
    {
     "name": "stderr",
     "output_type": "stream",
     "text": [
      "/Users/ireneroblesrebollo/anaconda3/envs/myscanpy/lib/python3.10/site-packages/anndata/__init__.py:51: FutureWarning: `anndata.read` is deprecated, use `anndata.read_h5ad` instead. `ad.read` will be removed in mid 2024.\n",
      "  warnings.warn(\n"
     ]
    },
    {
     "data": {
      "text/plain": [
       "AnnData object with n_obs × n_vars = 149 × 23433\n",
       "    var: 'gene_ids'"
      ]
     },
     "execution_count": 2,
     "metadata": {},
     "output_type": "execute_result"
    }
   ],
   "source": [
    "# Get folders in droplet\n",
    "folders = os.listdir(\"droplet\")\n",
    "folders = [f for f in folders if os.path.isdir(\"droplet/\"+f)]\n",
    "\n",
    "\n",
    "\n",
    "path = \"droplet/Bladder-10X_P4_3/\"\n",
    "adata = sc.read_10x_mtx(path, var_names='gene_symbols', cache=True)\n",
    "adata"
   ]
  },
  {
   "cell_type": "code",
   "execution_count": 14,
   "metadata": {},
   "outputs": [
    {
     "name": "stderr",
     "output_type": "stream",
     "text": [
      "/var/folders/j_/p91_tr691jdc7zfzyb36vj9c0000gn/T/ipykernel_18014/3529753359.py:20: DeprecationWarning: Please import `coo_matrix` from the `scipy.sparse` namespace; the `scipy.sparse.coo` namespace is deprecated and will be removed in SciPy 2.0.0.\n",
      "  if isinstance(mtx, sp.sparse.coo.coo_matrix):\n"
     ]
    },
    {
     "data": {
      "text/plain": [
       "AnnData object with n_obs × n_vars = 149 × 23433\n",
       "    obs: 'column_1'\n",
       "    var: 'column_1', 'column_2'"
      ]
     },
     "execution_count": 14,
     "metadata": {},
     "output_type": "execute_result"
    }
   ],
   "source": [
    "def read_scrnaseq_faster(\n",
    "   path: str\n",
    "   )-> sc.AnnData:\n",
    "    \"\"\"\n",
    "    Read a sparse matrix in Matrix Market format and two CSV files with gene and cell metadata\n",
    "    into an AnnData object.\n",
    "    \n",
    "    Args:\n",
    "        path: Path to the directory containing the matrix.mtx, genes.tsv, and barcodes.tsv files.\n",
    "        \n",
    "    Returns:\n",
    "        An AnnData object with the matrix, gene metadata, and cell metadata.\n",
    "\n",
    "    \"\"\"\n",
    "    mtx_file = os.path.join(path, \"matrix.mtx\")\n",
    "    gene_info = os.path.join(path, \"genes.tsv\")\n",
    "    cell_metadata = os.path.join(path, \"barcodes.tsv\")\n",
    "    \n",
    "    \n",
    "    # Read the .mtx file into a sparse matrix using the fast_matrix_market package (master than scanpy, uses multiprocessing)\n",
    "    mtx = fast_matrix_market.mmread(mtx_file)\n",
    "\n",
    "    # Convert the sparse matrix to a CSR matrix\n",
    "    # Otherwise you will not be able to use it with scanpy\n",
    "    if isinstance(mtx, sp.sparse.coo.coo_matrix):\n",
    "        mtx = mtx.tocsr()\n",
    "    \n",
    "    # Create an AnnData object\n",
    "    adata = sc.AnnData(X=mtx.T)\n",
    "\n",
    "    # Polars is faster than pandas for reading test files\n",
    "    # Read the gene names and cell names into the AnnData object\n",
    "    \n",
    "    adata.var = pl.read_csv(gene_info, separator= '\\t', has_header=False).to_pandas()\n",
    "    \n",
    "    # Read the cell names and cell metadata into the AnnData object\n",
    "    adata.obs = pl.read_csv(cell_metadata, separator= '\\t', has_header=False).to_pandas()\n",
    "    return adata\n"
   ]
  },
  {
   "cell_type": "code",
   "execution_count": 15,
   "metadata": {},
   "outputs": [
    {
     "name": "stdout",
     "output_type": "stream",
     "text": [
      "Time for scanpy:  0.03070998191833496\n",
      "Time for fast_matrix_market:  0.024509191513061523\n"
     ]
    },
    {
     "name": "stderr",
     "output_type": "stream",
     "text": [
      "/Users/ireneroblesrebollo/anaconda3/envs/myscanpy/lib/python3.10/site-packages/anndata/__init__.py:51: FutureWarning: `anndata.read` is deprecated, use `anndata.read_h5ad` instead. `ad.read` will be removed in mid 2024.\n",
      "  warnings.warn(\n",
      "/var/folders/j_/p91_tr691jdc7zfzyb36vj9c0000gn/T/ipykernel_18014/3529753359.py:20: DeprecationWarning: Please import `coo_matrix` from the `scipy.sparse` namespace; the `scipy.sparse.coo` namespace is deprecated and will be removed in SciPy 2.0.0.\n",
      "  if isinstance(mtx, sp.sparse.coo.coo_matrix):\n"
     ]
    }
   ],
   "source": [
    "# Time the function\n",
    "import time\n",
    "\n",
    "time_start = time.time()\n",
    "sc.read_10x_mtx(path, var_names='gene_symbols', cache=True)\n",
    "time_end = time.time()\n",
    "print(\"Time for scanpy: \", time_end - time_start)\n",
    "\n",
    "time_start = time.time()\n",
    "adata = read_scrnaseq_faster(path)\n",
    "time_end = time.time()\n",
    "print(\"Time for fast_matrix_market: \", time_end - time_start)\n",
    "\n"
   ]
  },
  {
   "cell_type": "code",
   "execution_count": null,
   "metadata": {},
   "outputs": [],
   "source": []
  }
 ],
 "metadata": {
  "kernelspec": {
   "display_name": "myscanpy",
   "language": "python",
   "name": "python3"
  },
  "language_info": {
   "codemirror_mode": {
    "name": "ipython",
    "version": 3
   },
   "file_extension": ".py",
   "mimetype": "text/x-python",
   "name": "python",
   "nbconvert_exporter": "python",
   "pygments_lexer": "ipython3",
   "version": "3.10.13"
  }
 },
 "nbformat": 4,
 "nbformat_minor": 2
}
