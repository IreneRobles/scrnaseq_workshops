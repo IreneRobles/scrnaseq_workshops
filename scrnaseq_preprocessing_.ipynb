{
  "cells": [
    {
      "cell_type": "raw",
      "metadata": {},
      "source": [
        "---\n",
        "title: Introduction to scRNAseq analysis using scanpy\n",
        "subtitle: Workshop\n",
        "author: Irene Robles\n",
        "institute: CoSyne Therapeutics\n",
        "date: today\n",
        "bibliography: bibliograpy.bib\n",
        "execute:\n",
        "  warning: false\n",
        "format:\n",
        "  html:\n",
        "    scrollable: true\n",
        "    incremental: false\n",
        "    theme: default\n",
        "    toc: true\n",
        "    code-fold: false\n",
        "    embed-resources: true\n",
        "fontsize: 12pt\n",
        "---"
      ],
      "id": "78b19e25"
    },
    {
      "cell_type": "markdown",
      "metadata": {},
      "source": [
        "## Goal\n",
        "\n",
        "Introduction to scRNAseq analysis using scanpy\n",
        "\n",
        "## Who am I?\n",
        "\n",
        "- Irene Robles Rebollo\n",
        "- BSc in Biochemistry\n",
        "- MSc in Applied Biosciences and Biotechnology\n",
        "- PhD in Cell Biology\n",
        "    - Half experimental\n",
        "    - Half computational\n",
        "- Bioinformatician at Cosyne Therapeutics\n",
        "\n",
        "\n",
        "## History\n",
        "\n",
        "| Year | Achievement | \n",
        "|------|-------------|\n",
        "| 1953 |  DNA structure                   \n",
        "| 1985 |  First PCR -  DNA amplification \n",
        "| 1988 |  PCR with Taq polymerase - Automated DNA amplification| \n",
        "| 1993 |  First qPCRs - RNA amplification \n",
        "| 1995 |  Microarrays - Quantify an array gene expression using a chip| \n",
        "| 2001 |  First draft of the human genome\n",
        "| 2003 |  First NGS DNA sequencer - High throughput DNA sequencing |\n",
        "| 2006 |  First RNA-seq -  High throughput RNA sequencing |\n",
        "| 2009 |  First single-cell RNA-seq [@tang2009mrna] \n",
        "| 2013 |  Single-cell RNA-seq is declared method of the year\n",
        "\n",
        "[@zhu2020pcr; @gondane2023revealing]\n",
        "\n",
        "\n",
        "## Single-cell vs bulk RNAseq\n",
        "\n",
        ":::: {.columns}\n",
        "\n",
        "::: {.column width=\"49%\"}\n",
        "\n",
        "![Bulk RNA-seq, <a href=\"https://unsplash.com/es/@lyfefuel?utm_content=creditCopyText&utm_medium=referral&utm_source=unsplash\">LyfeFuel</a> from <a href=\"https://unsplash.com/es/fotos/bebida-verde-y-blanca-con-pajita-en-vaso-transparente-_82CV9I-TP8?utm_content=creditCopyText&utm_medium=referral&utm_source=unsplash\">Unsplash</a>](figures/lyfefuel-_82CV9I-TP8-unsplash.jpg)\n",
        ":::\n",
        "\n",
        "\n",
        "  \n",
        "::: {.column width=\"3%\"}\n",
        "<!-- empty column to create gap -->\n",
        ":::\n",
        "\n",
        "::: {.column width=\"48%\"}\n",
        "![scRNA-seq, <a href=\"https://unsplash.com/es/@vdphotography?utm_content=creditCopyText&utm_medium=referral&utm_source=unsplash\">VD Photography</a> from <a href=\"https://unsplash.com/es/fotos/un-plato-blanco-cubierto-con-fruta-cortada-sEK8OMsJJ08?utm_content=creditCopyText&utm_medium=referral&utm_source=unsplash\">Unsplash</a>](figures/vd-photography-sEK8OMsJJ08-unsplash.jpg)\n",
        ":::\n",
        "\n",
        "::::\n",
        "\n",
        "\n",
        "|Feature              | Bulk data                          | Single-cell data                  |\n",
        "|-----------------------|------------------------------------|-----------------------------------|\n",
        "| Cell resolution       | Average of all cells               | Individual cell resolution        |\n",
        "| Sample representation | Vector of gene expression values | Matrix of gene expression values  |\n",
        "| Genomic resolution  | Higher, depends on sequencing depth  | Lower, depends on starting material |\n",
        "| Cost                | Lower                                | High                              |\n",
        "| Computational requirements | Lower                        | Higher                              |\n",
        "| Data size           | Lower                               | Higher                           |\n",
        "| Data interpretation | Simple                             | Complex                           |\n",
        "\n",
        "\n",
        "## Sample representation\n",
        "\n",
        "- In bulk data, each sample is repressented by a vector, where each value is a gene.\n",
        "- In single cell data, each sample is a matrix, where each row is a gene and each column is a cell.\n",
        "\n",
        "\\begin{align}\n",
        "Bulk &= \\begin{bmatrix} gene_{1} \\\\ gene_{2} \\\\ gene_{3}\\\\ \\vdots \\\\ gene_{n} \\end{bmatrix} \n",
        "\\\\\n",
        "\\\\\n",
        "\n",
        "Single-cell &= \\begin{bmatrix}\n",
        "    gene_1, cell_1 & gene_1, cell_2 & gene_1, cell_3 & \\dots  & gene_1, cell_m \\\\\n",
        "    gene_2, cell_1 & gene_2, cell_2 & gene_2, cell_3 & \\dots  & gene_2, cell_m \\\\\n",
        "    gene_3, cell_1 & gene_3, cell_2 & gene_3, cell_3 & \\dots  & gene_3, cell_m \\\\\n",
        "    \\vdots & \\vdots & \\vdots & \\ddots & \\vdots \\\\\n",
        "    gene_n, cell_1 & gene_n, cell_2 & gene_n, cell_3 & \\dots  & gene_n, cell_m\n",
        "\\end{bmatrix}\n",
        "\n",
        "\\end{align}\n",
        "\n",
        "\n",
        "\n",
        "## Scanpy vs Seurat\n",
        "- Scanpy is a Python package for single-cell analysis [@wolf2018scanpy]\n",
        "- Seurat is an R package for single-cell analysis [@satija2015spatial]\n",
        "- Both are: \n",
        "    - User-friendly tools for single-cell analysis\n",
        "    - Open source \n",
        "    - Well-documented\n",
        "    - Widely-used\n",
        "- Choice depends on:\n",
        "    - Language preference\n",
        "    - Team expertise\n",
        "    - Integration with downstream analysis\n",
        "    - Speed and memory requirements\n",
        "\n",
        "> Hint: A good bioinformatician is not restricted by language. You can use R in Python can be done using the `rpy2` package. And Python can be use within R using `reticulate`. \n",
        "\n",
        "## Scale of scRNAseq data\n",
        "\n",
        "![Number of cells per study over years [@svensson2020curated]](number_of_cells.png)\n",
        "\n",
        "## AnnData object\n",
        "\n",
        "![AnnData object, source: scanpy web](https://falexwolf.de/img/scanpy/anndata.svg) \n",
        "\n",
        "## Set up\n",
        "\n",
        "- Install Miniconda\n",
        "- Create a new environment\n",
        "\n",
        "```bash\n",
        "conda create -n myscanpy python=3.10\n",
        "conda activate myscanpy\n",
        "pip install -r requirements.txt\n",
        "```\n",
        "\n",
        "## Import libraries\n"
      ],
      "id": "1c687eaa"
    },
    {
      "cell_type": "code",
      "metadata": {},
      "source": [
        "import scanpy as sc\n",
        "import scrublet as scr\n",
        "import numpy as np\n",
        "import os\n",
        "import pandas as pd\n",
        "import polars as pl\n",
        "import matplotlib.pyplot as plt\n",
        "import seaborn as sns"
      ],
      "id": "0535b42f",
      "execution_count": null,
      "outputs": []
    },
    {
      "cell_type": "markdown",
      "metadata": {},
      "source": [
        "Scanpy setttings"
      ],
      "id": "7c0e4dbb"
    },
    {
      "cell_type": "code",
      "metadata": {},
      "source": [
        "sc.settings.verbosity = 3   # verbosity: errors (0), warnings (1), info (2), hints (3)\n",
        "sc.logging.print_header()\n",
        "sc.settings.set_figure_params(dpi=80, facecolor='white')"
      ],
      "id": "c93d75e9",
      "execution_count": null,
      "outputs": []
    },
    {
      "cell_type": "markdown",
      "metadata": {},
      "source": [
        "## Download data\n",
        "\n",
        "```bash\n",
        "mkdir data\n",
        "cd data\n",
        "wget https://ftp.ncbi.nlm.nih.gov/geo/series/GSE190nnn/GSE190622/suppl/GSE190622%5Fcount%5Fmatrix%5FAnnotated.csv.gz\n",
        "```\n",
        "\n",
        "## Load tests datasets\n",
        "\n",
        "Single-cell SMART-seq data from mouse macrophages [@robles2022cohesin]\n"
      ],
      "id": "272c47bb"
    },
    {
      "cell_type": "code",
      "metadata": {},
      "source": [
        "mf = pd.read_csv(\"data/GSE190622_count_matrix_Annotated.csv.gz\", index_col=0)\n",
        "adata = sc.AnnData(X=mf.T)\n",
        "adata.obs[\"genotype\"] = adata.obs_names.to_series().apply(lambda x: x.split(\"_\")[0])\n",
        "adata.obs[\"timepoint\"] = adata.obs_names.to_series().apply(lambda x: x.split(\"_\")[1])\n",
        "adata.obs[\"sample\"] = adata.obs[\"genotype\"] + \"_\" + adata.obs[\"timepoint\"]\n",
        "adata.var_names_make_unique()\n",
        "adata"
      ],
      "id": "9e5a3a75",
      "execution_count": null,
      "outputs": []
    },
    {
      "cell_type": "markdown",
      "metadata": {},
      "source": [
        "## Doublets\n",
        "\n",
        "- A doublet is a single-cell transcriptome that has been generated by two cells\n",
        "- They have often have a higher read and gene count\n",
        "- They can produce confounding results\n",
        "\n",
        "![Doublets, adapted from [@wolock2019scrublet]](figures/doublets_scubletpaper.png)\n",
        "\n",
        "How do we fight doublets:\n",
        "- Experiment design\n",
        "- Computationally\n",
        "\n",
        "### Scrublet\n",
        "\n",
        "Scrublet finds doublets based os simulations [@wolock2019scrublet]\n",
        "\n",
        "![Scrublet algorithm overview [@wolock2019scrublet]](figures/scrublet.png)\n"
      ],
      "id": "1eb01525"
    },
    {
      "cell_type": "code",
      "metadata": {},
      "source": [
        "scrub = scr.Scrublet(adata.X, expected_doublet_rate=0.06)\n",
        "doublet_scores, predicted_doublets = scrub.scrub_doublets()\n",
        "scrub.plot_histogram()"
      ],
      "id": "ac55ceb3",
      "execution_count": null,
      "outputs": []
    },
    {
      "cell_type": "markdown",
      "metadata": {},
      "source": [
        "Adjust threshold\n"
      ],
      "id": "9618d9a0"
    },
    {
      "cell_type": "code",
      "metadata": {},
      "source": [
        "predicted_doublets = scrub.call_doublets(threshold=0.2)\n",
        "scrub.plot_histogram()"
      ],
      "id": "b30c8242",
      "execution_count": null,
      "outputs": []
    },
    {
      "cell_type": "markdown",
      "metadata": {},
      "source": [
        "Visualise doublets\n"
      ],
      "id": "03a5f3da"
    },
    {
      "cell_type": "code",
      "metadata": {},
      "source": [
        "scrub.set_embedding('UMAP', scr.get_umap(scrub.manifold_obs_, 10, min_dist=0.3))\n",
        "scrub.plot_embedding('UMAP', order_points=True);"
      ],
      "id": "86f31341",
      "execution_count": null,
      "outputs": []
    },
    {
      "cell_type": "markdown",
      "metadata": {},
      "source": [
        "Filter out doublets\n"
      ],
      "id": "22b2e7a8"
    },
    {
      "cell_type": "code",
      "metadata": {},
      "source": [
        "adata.obs[\"scrublet_doublet\"] = predicted_doublets\n",
        "adata = adata[adata.obs[\"scrublet_doublet\"].apply(lambda x: x is False)]"
      ],
      "id": "39258687",
      "execution_count": null,
      "outputs": []
    },
    {
      "cell_type": "markdown",
      "metadata": {},
      "source": [
        "## Preprocessing\n",
        "\n",
        "### Highest expressing genes\n",
        "Look for suspects: MALAT1, mitochondrial genes, ribosomal genes, componenets of the cytoskeleton, etc.\n"
      ],
      "id": "5ae077d4"
    },
    {
      "cell_type": "code",
      "metadata": {},
      "source": [
        "sc.pl.highest_expr_genes(adata, n_top=20)"
      ],
      "id": "a08bfdf0",
      "execution_count": null,
      "outputs": []
    },
    {
      "cell_type": "markdown",
      "metadata": {},
      "source": [
        "### Quality metrics\n",
        "\n",
        "`sc.pp.calculate_qc_metrics` computes quality control metrics for each cell.\n",
        "- Number of counts per cell\n",
        "- Number of genes per cell\n",
        "- Percentage of counts that come from mitochondrial genes.\n"
      ],
      "id": "bbdb3af4"
    },
    {
      "cell_type": "code",
      "metadata": {},
      "source": [
        "# Mitochondrial genes\n",
        "adata.var['mt'] = adata.var_names.str.startswith('mt-')\n",
        "sc.pp.calculate_qc_metrics(adata, qc_vars=['mt'], percent_top=None, log1p=False, inplace=True)"
      ],
      "id": "bb360d58",
      "execution_count": null,
      "outputs": []
    },
    {
      "cell_type": "code",
      "metadata": {},
      "source": [
        "sc.pl.violin(adata, ['n_genes_by_counts', 'total_counts', 'pct_counts_mt'],\n",
        "             jitter=0.4, multi_panel=True, rotation = 90)"
      ],
      "id": "128f01a9",
      "execution_count": null,
      "outputs": []
    },
    {
      "cell_type": "markdown",
      "metadata": {},
      "source": [
        "Different sampes might require different thresholds\n"
      ],
      "id": "8aa70823"
    },
    {
      "cell_type": "code",
      "metadata": {},
      "source": [
        "sc.pl.violin(adata, ['n_genes_by_counts', 'total_counts', 'pct_counts_mt'],\n",
        "             jitter=0.4, multi_panel=True, groupby='sample', rotation = 90)"
      ],
      "id": "5f3426ec",
      "execution_count": null,
      "outputs": []
    },
    {
      "cell_type": "code",
      "metadata": {},
      "source": [
        "sc.pl.scatter(adata, x='total_counts', y='pct_counts_mt', color='sample')\n",
        "sc.pl.scatter(adata, x='total_counts', y='n_genes_by_counts', color='sample')"
      ],
      "id": "f7cec2b7",
      "execution_count": null,
      "outputs": []
    },
    {
      "cell_type": "markdown",
      "metadata": {},
      "source": [
        "In this case, cells from different samples are reasonably homogeneous. However, that is not always the cells_per_paper.ipynb\n",
        "\n",
        "![Example case where different tissues might require different quality control threshols, fraction of Tabula Muris data [@schaum2018single]](figures/violinqc_different_tissues.png)\n",
        "\n",
        "\n",
        "## Filtering\n",
        "\n",
        "Filter cells based on quality metrics\n"
      ],
      "id": "3f9b5c0a"
    },
    {
      "cell_type": "code",
      "metadata": {},
      "source": [
        "sc.pp.filter_cells(adata, min_genes=500)\n",
        "sc.pp.filter_genes(adata, min_cells=5)\n",
        "adata= adata[adata.obs.n_genes_by_counts < 5000, :]\n",
        "adata= adata[adata.obs.pct_counts_mt < 15, :]"
      ],
      "id": "591b8b46",
      "execution_count": null,
      "outputs": []
    },
    {
      "cell_type": "markdown",
      "metadata": {},
      "source": [
        "## Normalisation: size normalisation and log transformation\n",
        "\n",
        "For simplicity, we will use the simplest method: library size normalisation and log transformation, but there are others\n",
        "[@risso2018general, @hafemeister2019normalization]. \n",
        "\n",
        "Steps:\n",
        "\n",
        "- Transcript length normalisation: \n",
        "    - Adjusts for differences in transcript length between genes\n",
        "    - Divides the counts in each cell by the length of the transcript\n",
        "    - Not necessary if you sequence a fixed region of the transcript ( 3' or 5' in 10X, our case)\n",
        "- Library size normalisation: \n",
        "    - Adjusts for differences in sequencing depth between cells\n",
        "    - Divides the counts in each cell by the total counts in that cell and multiplies by a scale factor (e.g. 10,000)\n"
      ],
      "id": "7e98911d"
    },
    {
      "cell_type": "code",
      "metadata": {},
      "source": [
        "sc.pp.normalize_total(adata, target_sum=1e4)"
      ],
      "id": "c925e35d",
      "execution_count": null,
      "outputs": []
    },
    {
      "cell_type": "markdown",
      "metadata": {},
      "source": [
        "- Log transformation:\n",
        "    - Logarithm of the normalised counts\n",
        "    - Makes the data more normally distributed\n"
      ],
      "id": "30f1f562"
    },
    {
      "cell_type": "code",
      "metadata": {},
      "source": [
        "sc.pp.log1p(adata)"
      ],
      "id": "1c7ad631",
      "execution_count": null,
      "outputs": []
    },
    {
      "cell_type": "markdown",
      "metadata": {},
      "source": [
        "## Highly variable genes\n",
        "\n",
        "- Genes that show the most variation across cells\n",
        "- Often the most informative genes\n"
      ],
      "id": "267d419b"
    },
    {
      "cell_type": "code",
      "metadata": {},
      "source": [
        "sc.pp.highly_variable_genes(adata, min_mean=0.0125, max_mean=3, min_disp=0.5)"
      ],
      "id": "18af06f0",
      "execution_count": null,
      "outputs": []
    },
    {
      "cell_type": "markdown",
      "metadata": {},
      "source": [
        "## Dimensionality reduction\n",
        "\n",
        "### Goal\n",
        "- Reducing the number of input variables or features in a dataset.\n",
        "\n",
        "### Why \n",
        "\n",
        "- Noise Reduction: Focus on the most variance-contributing features, thus enhancing the signal-to-noise ratio.\n",
        "- Data Visualization: We can plot in 2 or 3 dimensions\n",
        "- Aid clustering and clasification\n",
        "- Computational efficiency\n",
        "\n",
        "### Dimensionality reduction techniques\n",
        "\n",
        "- Principal Component Analysis (PCA): PCA is often the first step in dimensionality reduction for single-cell data. It identifies the principal components that capture the most variance in the data, reducing its dimensionality while preserving its structure as much as possible.\n",
        "- t-Distributed Stochastic Neighbor Embedding (t-SNE): Popular dimensionality reduction that foccusses on the preservation on local structures\n",
        "- Uniform Manifold Approximation and Projection (UMAP): Popular dimensionality reduction that foccusses on the preservation on global structures\n",
        "- Autoencoders: Deep learning-based autoencoders can learn to compress single-cell data into a lower-dimensional representation in an unsupervised manner, capturing nonlinear relationships in the data.\n",
        "\n",
        "## Prepare data for dimensionality reduction\n",
        "\n",
        "The `.raw` attribute freezes the state of the AnnData object for later use. We can recumerate it by calling `.raw.to_adata().`\n"
      ],
      "id": "589eabde"
    },
    {
      "cell_type": "code",
      "metadata": {},
      "source": [
        "adata.raw = adata"
      ],
      "id": "d44c8505",
      "execution_count": null,
      "outputs": []
    },
    {
      "cell_type": "markdown",
      "metadata": {},
      "source": [
        "Filter by highly variable genes\n"
      ],
      "id": "e2bba93b"
    },
    {
      "cell_type": "code",
      "metadata": {},
      "source": [
        "adata= adata[:, adata.var.highly_variable]\n",
        "adata"
      ],
      "id": "c520b7d6",
      "execution_count": null,
      "outputs": []
    },
    {
      "cell_type": "markdown",
      "metadata": {},
      "source": [
        "Regress out effects of total counts per cell and the percentage of mitochondrial genes expressed. "
      ],
      "id": "bc1d4db6"
    },
    {
      "cell_type": "code",
      "metadata": {},
      "source": [
        "sc.pp.regress_out(adata, ['total_counts', 'pct_counts_mt'])"
      ],
      "id": "97855dcc",
      "execution_count": null,
      "outputs": []
    },
    {
      "cell_type": "markdown",
      "metadata": {},
      "source": [
        "Scale each gene to unit variance. Clip values exceeding standard deviation to 10."
      ],
      "id": "1de19714"
    },
    {
      "cell_type": "code",
      "metadata": {},
      "source": [
        "sc.pp.scale(adata, max_value=10)"
      ],
      "id": "60e3f2eb",
      "execution_count": null,
      "outputs": []
    },
    {
      "cell_type": "markdown",
      "metadata": {},
      "source": [
        "## Principal component analysis (PCA)\n",
        "\n",
        "PCA is often the first step in dimensionality reduction for single-cell data. It identifies the principal components that capture the most variance in the data, reducing its dimensionality while preserving its structure as much as possible.\n"
      ],
      "id": "0beebc51"
    },
    {
      "cell_type": "code",
      "metadata": {},
      "source": [
        "sc.tl.pca(adata, svd_solver='arpack')"
      ],
      "id": "750c59f0",
      "execution_count": null,
      "outputs": []
    },
    {
      "cell_type": "code",
      "metadata": {},
      "source": [
        "sc.pl.pca(adata, color='sample')"
      ],
      "id": "e10ac185",
      "execution_count": null,
      "outputs": []
    },
    {
      "cell_type": "markdown",
      "metadata": {},
      "source": [
        "Varinace explained by each component:\n"
      ],
      "id": "ff01bdd6"
    },
    {
      "cell_type": "code",
      "metadata": {},
      "source": [
        "sc.pl.pca_variance_ratio(adata, log=True)"
      ],
      "id": "cbba5945",
      "execution_count": null,
      "outputs": []
    },
    {
      "cell_type": "markdown",
      "metadata": {},
      "source": [
        "## UMAP and t-SNE\n",
        "\n",
        "First, we need to compute the neighbourhood graph:\n"
      ],
      "id": "64974328"
    },
    {
      "cell_type": "code",
      "metadata": {},
      "source": [
        "sc.pp.neighbors(adata, n_neighbors=10, n_pcs=40)"
      ],
      "id": "4ac5e616",
      "execution_count": null,
      "outputs": []
    },
    {
      "cell_type": "markdown",
      "metadata": {},
      "source": [
        "Compute UMAP:\n"
      ],
      "id": "81de4a83"
    },
    {
      "cell_type": "code",
      "metadata": {},
      "source": [
        "sc.tl.umap(adata)"
      ],
      "id": "9b866856",
      "execution_count": null,
      "outputs": []
    },
    {
      "cell_type": "markdown",
      "metadata": {},
      "source": [
        "Compute t-SNE:\n"
      ],
      "id": "c5ccd5b7"
    },
    {
      "cell_type": "code",
      "metadata": {},
      "source": [
        "sc.tl.tsne(adata)"
      ],
      "id": "b69572fa",
      "execution_count": null,
      "outputs": []
    },
    {
      "cell_type": "markdown",
      "metadata": {},
      "source": [
        "Plot UMAP: "
      ],
      "id": "c359a27f"
    },
    {
      "cell_type": "code",
      "metadata": {},
      "source": [
        "sc.pl.umap(adata, color='sample', use_raw=False)"
      ],
      "id": "a79ca266",
      "execution_count": null,
      "outputs": []
    },
    {
      "cell_type": "markdown",
      "metadata": {},
      "source": [
        "Plot t-SNE: "
      ],
      "id": "f11ed99d"
    },
    {
      "cell_type": "code",
      "metadata": {},
      "source": [
        "sc.pl.tsne(adata, color='sample', use_raw=False)"
      ],
      "id": "691bd79b",
      "execution_count": null,
      "outputs": []
    },
    {
      "cell_type": "markdown",
      "metadata": {},
      "source": [
        "## Clustering the neighborhood graph\n",
        "As with Seurat and many other frameworks, we recommend the Leiden graph-clustering method (community detection based on optimizing modularity) by Traag et al. (2018). Note that Leiden clustering directly clusters the neighborhood graph of cells, which we already computed in the previous section.\n"
      ],
      "id": "6d698b22"
    },
    {
      "cell_type": "code",
      "metadata": {},
      "source": [
        "sc.tl.leiden(adata)\n",
        "sc.pl.umap(adata, color='leiden', use_raw=False)"
      ],
      "id": "62b6460f",
      "execution_count": null,
      "outputs": []
    },
    {
      "cell_type": "markdown",
      "metadata": {},
      "source": [
        "## Finding marker genes\n",
        "\n",
        "Let us compute a ranking for the highly differential genes in each cluster. For this, by default, the .raw attribute of AnnData is used in case it has been initialized before. The simplest and fastest method to do so is the t-test.\n"
      ],
      "id": "daa3775e"
    },
    {
      "cell_type": "code",
      "metadata": {},
      "source": [
        "sc.tl.rank_genes_groups(adata, 'leiden', method='wilcoxon')\n",
        "sc.pl.rank_genes_groups(adata, n_genes=25, sharey=False)"
      ],
      "id": "0f88a4e2",
      "execution_count": null,
      "outputs": []
    },
    {
      "cell_type": "code",
      "metadata": {},
      "source": [
        "pd.DataFrame(adata.uns['rank_genes_groups']['names']).head(5)"
      ],
      "id": "7cfc9c16",
      "execution_count": null,
      "outputs": []
    },
    {
      "cell_type": "markdown",
      "metadata": {},
      "source": [
        "During the course of this analysis, the AnnData accumlated the following annotations.\n"
      ],
      "id": "457cab3e"
    },
    {
      "cell_type": "code",
      "metadata": {},
      "source": [
        "adata"
      ],
      "id": "012cae15",
      "execution_count": null,
      "outputs": []
    },
    {
      "cell_type": "markdown",
      "metadata": {},
      "source": [
        "## Inspirations\n",
        "\n",
        "- [Analysis of single cell RNA-seq data](https://www.singlecellcourse.org/)\n",
        "    - Course from University of Cambridge Bioinformatics training unit\n",
        "    - In R\n",
        "- [Single cell study database](www.nxn.se/single-cell-studies/)\n",
        "- [Scanpy tutorials](https://scanpy-tutorials.readthedocs.io/en/latest/)"
      ],
      "id": "ca4f24df"
    }
  ],
  "metadata": {
    "kernelspec": {
      "name": "myscanpy",
      "language": "python",
      "display_name": "Python (myscanpy)"
    }
  },
  "nbformat": 4,
  "nbformat_minor": 5
}