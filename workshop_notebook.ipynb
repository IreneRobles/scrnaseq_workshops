{
  "cells": [
    {
      "cell_type": "markdown",
      "id": "1c687eaa",
      "metadata": {},
      "source": [
        "# Introduction to scRNAseq analysis using scanpy\n",
        "\n",
        "Notebook playground"
      ]
    },
    {
      "cell_type": "markdown",
      "id": "010cef3c",
      "metadata": {},
      "source": [
        "### Python package installation"
      ]
    },
    {
      "cell_type": "code",
      "execution_count": null,
      "id": "fa3a5e86",
      "metadata": {},
      "outputs": [],
      "source": [
        "!pip install scanpy scrublet polars pandas seaborn"
      ]
    },
    {
      "cell_type": "markdown",
      "id": "a6d9e8f1",
      "metadata": {},
      "source": [
        "### Test data download"
      ]
    },
    {
      "cell_type": "code",
      "execution_count": null,
      "id": "ae9cfb24",
      "metadata": {},
      "outputs": [],
      "source": [
        "!wget -P data/ https://ftp.ncbi.nlm.nih.gov/geo/series/GSE190nnn/GSE190622/suppl/GSE190622%5Fcount%5Fmatrix%5FAnnotated.csv.gz"
      ]
    },
    {
      "cell_type": "code",
      "execution_count": null,
      "id": "0535b42f",
      "metadata": {},
      "outputs": [],
      "source": [
        "import scanpy as sc\n",
        "import scrublet as scr\n",
        "import numpy as np\n",
        "import os\n",
        "import pandas as pd\n",
        "import polars as pl\n",
        "import matplotlib.pyplot as plt\n",
        "import seaborn as sns"
      ]
    },
    {
      "cell_type": "markdown",
      "id": "7c0e4dbb",
      "metadata": {},
      "source": [
        "Scanpy setttings"
      ]
    },
    {
      "cell_type": "code",
      "execution_count": null,
      "id": "c93d75e9",
      "metadata": {},
      "outputs": [],
      "source": [
        "sc.settings.verbosity = 3   # verbosity: errors (0), warnings (1), info (2), hints (3)\n",
        "sc.logging.print_header()\n",
        "sc.settings.set_figure_params(dpi=80, facecolor='white')"
      ]
    },
    {
      "cell_type": "code",
      "execution_count": null,
      "id": "9e5a3a75",
      "metadata": {},
      "outputs": [],
      "source": [
        "mf = pd.read_csv(\"data/GSE190622_count_matrix_Annotated.csv.gz\", index_col=0)\n",
        "adata = sc.AnnData(X=mf.T)\n",
        "adata.obs[\"genotype\"] = adata.obs_names.to_series().apply(lambda x: x.split(\"_\")[0])\n",
        "adata.obs[\"timepoint\"] = adata.obs_names.to_series().apply(lambda x: x.split(\"_\")[1])\n",
        "adata.obs[\"sample\"] = adata.obs[\"genotype\"] + \"_\" + adata.obs[\"timepoint\"]\n",
        "adata.var_names_make_unique()\n",
        "adata"
      ]
    }
  ],
  "metadata": {
    "kernelspec": {
      "display_name": "myscanpy",
      "language": "python",
      "name": "python3"
    },
    "language_info": {
      "codemirror_mode": {
        "name": "ipython",
        "version": 3
      },
      "file_extension": ".py",
      "mimetype": "text/x-python",
      "name": "python",
      "nbconvert_exporter": "python",
      "pygments_lexer": "ipython3",
      "version": "3.10.13"
    }
  },
  "nbformat": 4,
  "nbformat_minor": 5
}
